{
 "cells": [
  {
   "cell_type": "markdown",
   "metadata": {
    "slideshow": {
     "slide_type": "slide"
    }
   },
   "source": [
    "# How dangerous is the Covid_19?\n",
    "###     As I'm sure you're all aware, there is a new virus that has been getting a lot of attention news lately. I wanted to find my own answers as this virus is becoming more relavent to our life here at make school.\n",
    "##     Doing a search on kaggle revealed that there is already a bit of information about it. \n",
    "### But in order to make sense of the information I thought it would help to compared it to something I know a little more about. The flu."
   ]
  },
  {
   "cell_type": "markdown",
   "metadata": {
    "slideshow": {
     "slide_type": "slide"
    }
   },
   "source": [
    "# So I found a dataset about the 2009 H1N1 outbreak also on Kaggle\n",
    "##     Now the data that I have on the H1N1 outbreak is not as descriptive as the info on the corona virus so any conclusions drawn may be incorrect. But I'm going to try best to compare them."
   ]
  },
  {
   "cell_type": "code",
   "execution_count": 202,
   "metadata": {
    "slideshow": {
     "slide_type": "subslide"
    }
   },
   "outputs": [
    {
     "data": {
      "text/plain": [
       "'Importing libraries'"
      ]
     },
     "execution_count": 202,
     "metadata": {},
     "output_type": "execute_result"
    }
   ],
   "source": [
    "import pandas as pd\n",
    "import numpy as np\n",
    "from pandas.plotting import scatter_matrix\n",
    "import matplotlib.pyplot as plt\n",
    "from scipy import stats\n",
    "import seaborn as sns\n",
    "\"\"\"Importing libraries\"\"\""
   ]
  },
  {
   "cell_type": "code",
   "execution_count": 203,
   "metadata": {
    "slideshow": {
     "slide_type": "subslide"
    }
   },
   "outputs": [],
   "source": [
    "h1n1 = pd.read_csv('h1n1_2009.csv')\n",
    "cor1 = pd.read_csv('corona_virus_2019/2019_nCoV_data.csv')\n",
    "cor_time_confirmed = pd.read_csv('corona_virus_2019/time_series_covid_19_confirmed.csv')\n",
    "cor_time_dead = pd.read_csv('corona_virus_2019/time_series_covid_19_deaths.csv')"
   ]
  },
  {
   "cell_type": "code",
   "execution_count": 204,
   "metadata": {
    "slideshow": {
     "slide_type": "subslide"
    }
   },
   "outputs": [
    {
     "data": {
      "text/plain": [
       "'Updating/ cleaning'"
      ]
     },
     "execution_count": 204,
     "metadata": {},
     "output_type": "execute_result"
    }
   ],
   "source": [
    "h1n1['Update Time'] = pd.to_datetime(h1n1['Update Time'])\n",
    "\"\"\"Updating/ cleaning\"\"\""
   ]
  },
  {
   "cell_type": "code",
   "execution_count": 274,
   "metadata": {
    "slideshow": {
     "slide_type": "subslide"
    }
   },
   "outputs": [
    {
     "data": {
      "text/html": [
       "<div>\n",
       "<style scoped>\n",
       "    .dataframe tbody tr th:only-of-type {\n",
       "        vertical-align: middle;\n",
       "    }\n",
       "\n",
       "    .dataframe tbody tr th {\n",
       "        vertical-align: top;\n",
       "    }\n",
       "\n",
       "    .dataframe thead th {\n",
       "        text-align: right;\n",
       "    }\n",
       "</style>\n",
       "<table border=\"1\" class=\"dataframe\">\n",
       "  <thead>\n",
       "    <tr style=\"text-align: right;\">\n",
       "      <th></th>\n",
       "      <th>Cases</th>\n",
       "      <th>Deaths</th>\n",
       "    </tr>\n",
       "  </thead>\n",
       "  <tbody>\n",
       "    <tr>\n",
       "      <th>count</th>\n",
       "      <td>1822.000000</td>\n",
       "      <td>1821.000000</td>\n",
       "    </tr>\n",
       "    <tr>\n",
       "      <th>mean</th>\n",
       "      <td>901.063666</td>\n",
       "      <td>4.315761</td>\n",
       "    </tr>\n",
       "    <tr>\n",
       "      <th>std</th>\n",
       "      <td>5264.291392</td>\n",
       "      <td>25.793340</td>\n",
       "    </tr>\n",
       "    <tr>\n",
       "      <th>min</th>\n",
       "      <td>1.000000</td>\n",
       "      <td>0.000000</td>\n",
       "    </tr>\n",
       "    <tr>\n",
       "      <th>25%</th>\n",
       "      <td>3.000000</td>\n",
       "      <td>0.000000</td>\n",
       "    </tr>\n",
       "    <tr>\n",
       "      <th>50%</th>\n",
       "      <td>13.500000</td>\n",
       "      <td>0.000000</td>\n",
       "    </tr>\n",
       "    <tr>\n",
       "      <th>75%</th>\n",
       "      <td>88.750000</td>\n",
       "      <td>0.000000</td>\n",
       "    </tr>\n",
       "    <tr>\n",
       "      <th>max</th>\n",
       "      <td>94512.000000</td>\n",
       "      <td>429.000000</td>\n",
       "    </tr>\n",
       "  </tbody>\n",
       "</table>\n",
       "</div>"
      ],
      "text/plain": [
       "              Cases       Deaths\n",
       "count   1822.000000  1821.000000\n",
       "mean     901.063666     4.315761\n",
       "std     5264.291392    25.793340\n",
       "min        1.000000     0.000000\n",
       "25%        3.000000     0.000000\n",
       "50%       13.500000     0.000000\n",
       "75%       88.750000     0.000000\n",
       "max    94512.000000   429.000000"
      ]
     },
     "execution_count": 274,
     "metadata": {},
     "output_type": "execute_result"
    }
   ],
   "source": [
    "h1n1.describe()"
   ]
  },
  {
   "cell_type": "code",
   "execution_count": 206,
   "metadata": {
    "slideshow": {
     "slide_type": "subslide"
    }
   },
   "outputs": [
    {
     "data": {
      "text/plain": [
       "'Updating/ cleaning'"
      ]
     },
     "execution_count": 206,
     "metadata": {},
     "output_type": "execute_result"
    }
   ],
   "source": [
    "cor1 = cor1.rename(columns = {'Confirmed':'Cases', 'Last Update':'Update Time'})\n",
    "cor1 = cor1.drop(columns=['Sno', 'Province/State'])\n",
    "cor1['Update Time'] = pd.to_datetime(cor1['Update Time'])\n",
    "cor1['Date'] = pd.to_datetime(cor1['Date'])\n",
    "\"\"\"Updating/ cleaning\"\"\""
   ]
  },
  {
   "cell_type": "code",
   "execution_count": 275,
   "metadata": {
    "slideshow": {
     "slide_type": "subslide"
    }
   },
   "outputs": [
    {
     "data": {
      "text/html": [
       "<div>\n",
       "<style scoped>\n",
       "    .dataframe tbody tr th:only-of-type {\n",
       "        vertical-align: middle;\n",
       "    }\n",
       "\n",
       "    .dataframe tbody tr th {\n",
       "        vertical-align: top;\n",
       "    }\n",
       "\n",
       "    .dataframe thead th {\n",
       "        text-align: right;\n",
       "    }\n",
       "</style>\n",
       "<table border=\"1\" class=\"dataframe\">\n",
       "  <thead>\n",
       "    <tr style=\"text-align: right;\">\n",
       "      <th></th>\n",
       "      <th>Cases</th>\n",
       "      <th>Deaths</th>\n",
       "      <th>Recovered</th>\n",
       "    </tr>\n",
       "  </thead>\n",
       "  <tbody>\n",
       "    <tr>\n",
       "      <th>count</th>\n",
       "      <td>1719.000000</td>\n",
       "      <td>1719.000000</td>\n",
       "      <td>1719.000000</td>\n",
       "    </tr>\n",
       "    <tr>\n",
       "      <th>mean</th>\n",
       "      <td>454.596859</td>\n",
       "      <td>10.441536</td>\n",
       "      <td>44.361838</td>\n",
       "    </tr>\n",
       "    <tr>\n",
       "      <th>std</th>\n",
       "      <td>3712.529032</td>\n",
       "      <td>106.638286</td>\n",
       "      <td>351.078713</td>\n",
       "    </tr>\n",
       "    <tr>\n",
       "      <th>min</th>\n",
       "      <td>0.000000</td>\n",
       "      <td>0.000000</td>\n",
       "      <td>0.000000</td>\n",
       "    </tr>\n",
       "    <tr>\n",
       "      <th>25%</th>\n",
       "      <td>2.000000</td>\n",
       "      <td>0.000000</td>\n",
       "      <td>0.000000</td>\n",
       "    </tr>\n",
       "    <tr>\n",
       "      <th>50%</th>\n",
       "      <td>12.000000</td>\n",
       "      <td>0.000000</td>\n",
       "      <td>0.000000</td>\n",
       "    </tr>\n",
       "    <tr>\n",
       "      <th>75%</th>\n",
       "      <td>109.000000</td>\n",
       "      <td>0.000000</td>\n",
       "      <td>7.000000</td>\n",
       "    </tr>\n",
       "    <tr>\n",
       "      <th>max</th>\n",
       "      <td>59989.000000</td>\n",
       "      <td>1789.000000</td>\n",
       "      <td>7862.000000</td>\n",
       "    </tr>\n",
       "  </tbody>\n",
       "</table>\n",
       "</div>"
      ],
      "text/plain": [
       "              Cases       Deaths    Recovered\n",
       "count   1719.000000  1719.000000  1719.000000\n",
       "mean     454.596859    10.441536    44.361838\n",
       "std     3712.529032   106.638286   351.078713\n",
       "min        0.000000     0.000000     0.000000\n",
       "25%        2.000000     0.000000     0.000000\n",
       "50%       12.000000     0.000000     0.000000\n",
       "75%      109.000000     0.000000     7.000000\n",
       "max    59989.000000  1789.000000  7862.000000"
      ]
     },
     "execution_count": 275,
     "metadata": {},
     "output_type": "execute_result"
    }
   ],
   "source": [
    "cor1.describe()"
   ]
  },
  {
   "cell_type": "code",
   "execution_count": 208,
   "metadata": {
    "slideshow": {
     "slide_type": "subslide"
    }
   },
   "outputs": [
    {
     "data": {
      "text/plain": [
       "'Updating/ cleaning'"
      ]
     },
     "execution_count": 208,
     "metadata": {},
     "output_type": "execute_result"
    }
   ],
   "source": [
    "cor_time_confirmed = cor_time_confirmed.drop(columns=['Lat', 'Province/State', 'Long'])\n",
    "cor_time_confirmed = cor_time_confirmed.rename(columns = {'Country/Region':'Country'})\n",
    "ctc = pd.DataFrame()\n",
    "df2 = pd.DataFrame([i for i in cor_time_confirmed['Country'].unique()], columns=['Country'])\n",
    "ctc = ctc.append(df2)\n",
    "for column in cor_time_confirmed.columns:\n",
    "    if column != 'Country':\n",
    "        cor_time_confirmed = cor_time_confirmed.rename(columns = {column: pd.to_datetime(column)})\n",
    "        country_sums = []\n",
    "        for country in cor_time_confirmed['Country'].unique():\n",
    "            country_sums.append(cor_time_confirmed[cor_time_confirmed['Country'] == country][pd.to_datetime(column)].sum())\n",
    "        ctc[str(pd.to_datetime(column))] = country_sums\n",
    "\"\"\"Updating/ cleaning\"\"\""
   ]
  },
  {
   "cell_type": "code",
   "execution_count": 276,
   "metadata": {
    "slideshow": {
     "slide_type": "subslide"
    }
   },
   "outputs": [
    {
     "data": {
      "text/html": [
       "<div>\n",
       "<style scoped>\n",
       "    .dataframe tbody tr th:only-of-type {\n",
       "        vertical-align: middle;\n",
       "    }\n",
       "\n",
       "    .dataframe tbody tr th {\n",
       "        vertical-align: top;\n",
       "    }\n",
       "\n",
       "    .dataframe thead th {\n",
       "        text-align: right;\n",
       "    }\n",
       "</style>\n",
       "<table border=\"1\" class=\"dataframe\">\n",
       "  <thead>\n",
       "    <tr style=\"text-align: right;\">\n",
       "      <th></th>\n",
       "      <th>2020-01-22 00:00:00</th>\n",
       "      <th>2020-01-23 00:00:00</th>\n",
       "      <th>2020-01-24 00:00:00</th>\n",
       "      <th>2020-01-25 00:00:00</th>\n",
       "      <th>2020-01-26 00:00:00</th>\n",
       "      <th>2020-01-27 00:00:00</th>\n",
       "      <th>2020-01-28 00:00:00</th>\n",
       "      <th>2020-01-29 00:00:00</th>\n",
       "      <th>2020-01-30 00:00:00</th>\n",
       "      <th>2020-01-31 00:00:00</th>\n",
       "      <th>...</th>\n",
       "      <th>2020-02-11 00:00:00</th>\n",
       "      <th>2020-02-12 00:00:00</th>\n",
       "      <th>2020-02-13 00:00:00</th>\n",
       "      <th>2020-02-14 00:00:00</th>\n",
       "      <th>2020-02-15 00:00:00</th>\n",
       "      <th>2020-02-16 00:00:00</th>\n",
       "      <th>2020-02-17 00:00:00</th>\n",
       "      <th>2020-02-18 00:00:00</th>\n",
       "      <th>2020-02-19 00:00:00</th>\n",
       "      <th>2020-02-20 00:00:00</th>\n",
       "    </tr>\n",
       "  </thead>\n",
       "  <tbody>\n",
       "    <tr>\n",
       "      <th>count</th>\n",
       "      <td>31.000000</td>\n",
       "      <td>31.000000</td>\n",
       "      <td>31.000000</td>\n",
       "      <td>31.000000</td>\n",
       "      <td>31.000000</td>\n",
       "      <td>31.000000</td>\n",
       "      <td>31.000000</td>\n",
       "      <td>31.000000</td>\n",
       "      <td>31.000000</td>\n",
       "      <td>31.000000</td>\n",
       "      <td>...</td>\n",
       "      <td>31.000000</td>\n",
       "      <td>31.000000</td>\n",
       "      <td>31.000000</td>\n",
       "      <td>31.000000</td>\n",
       "      <td>31.000000</td>\n",
       "      <td>31.000000</td>\n",
       "      <td>31.000000</td>\n",
       "      <td>31.000000</td>\n",
       "      <td>31.000000</td>\n",
       "      <td>31.000000</td>\n",
       "    </tr>\n",
       "    <tr>\n",
       "      <th>mean</th>\n",
       "      <td>17.903226</td>\n",
       "      <td>21.064516</td>\n",
       "      <td>30.354839</td>\n",
       "      <td>46.258065</td>\n",
       "      <td>68.322581</td>\n",
       "      <td>94.419355</td>\n",
       "      <td>179.935484</td>\n",
       "      <td>198.903226</td>\n",
       "      <td>265.612903</td>\n",
       "      <td>320.225806</td>\n",
       "      <td>...</td>\n",
       "      <td>1445.258065</td>\n",
       "      <td>1458.774194</td>\n",
       "      <td>1947.419355</td>\n",
       "      <td>2157.645161</td>\n",
       "      <td>2226.838710</td>\n",
       "      <td>2297.612903</td>\n",
       "      <td>2363.225806</td>\n",
       "      <td>2423.806452</td>\n",
       "      <td>2440.032258</td>\n",
       "      <td>2458.032258</td>\n",
       "    </tr>\n",
       "    <tr>\n",
       "      <th>std</th>\n",
       "      <td>98.197880</td>\n",
       "      <td>114.686801</td>\n",
       "      <td>164.373872</td>\n",
       "      <td>251.064264</td>\n",
       "      <td>370.018863</td>\n",
       "      <td>513.833097</td>\n",
       "      <td>986.254732</td>\n",
       "      <td>1089.635485</td>\n",
       "      <td>1458.460642</td>\n",
       "      <td>1756.223936</td>\n",
       "      <td>...</td>\n",
       "      <td>7958.555937</td>\n",
       "      <td>8025.110955</td>\n",
       "      <td>10742.973014</td>\n",
       "      <td>11902.899954</td>\n",
       "      <td>12271.491075</td>\n",
       "      <td>12647.966713</td>\n",
       "      <td>12991.847625</td>\n",
       "      <td>13310.128505</td>\n",
       "      <td>13382.760098</td>\n",
       "      <td>13463.515481</td>\n",
       "    </tr>\n",
       "    <tr>\n",
       "      <th>min</th>\n",
       "      <td>0.000000</td>\n",
       "      <td>0.000000</td>\n",
       "      <td>0.000000</td>\n",
       "      <td>0.000000</td>\n",
       "      <td>0.000000</td>\n",
       "      <td>0.000000</td>\n",
       "      <td>0.000000</td>\n",
       "      <td>0.000000</td>\n",
       "      <td>0.000000</td>\n",
       "      <td>0.000000</td>\n",
       "      <td>...</td>\n",
       "      <td>0.000000</td>\n",
       "      <td>0.000000</td>\n",
       "      <td>0.000000</td>\n",
       "      <td>0.000000</td>\n",
       "      <td>0.000000</td>\n",
       "      <td>0.000000</td>\n",
       "      <td>0.000000</td>\n",
       "      <td>0.000000</td>\n",
       "      <td>1.000000</td>\n",
       "      <td>1.000000</td>\n",
       "    </tr>\n",
       "    <tr>\n",
       "      <th>25%</th>\n",
       "      <td>0.000000</td>\n",
       "      <td>0.000000</td>\n",
       "      <td>0.000000</td>\n",
       "      <td>0.000000</td>\n",
       "      <td>0.000000</td>\n",
       "      <td>0.000000</td>\n",
       "      <td>0.000000</td>\n",
       "      <td>0.000000</td>\n",
       "      <td>0.000000</td>\n",
       "      <td>1.000000</td>\n",
       "      <td>...</td>\n",
       "      <td>1.500000</td>\n",
       "      <td>1.500000</td>\n",
       "      <td>1.500000</td>\n",
       "      <td>1.500000</td>\n",
       "      <td>1.500000</td>\n",
       "      <td>1.500000</td>\n",
       "      <td>1.500000</td>\n",
       "      <td>1.500000</td>\n",
       "      <td>2.000000</td>\n",
       "      <td>2.000000</td>\n",
       "    </tr>\n",
       "    <tr>\n",
       "      <th>50%</th>\n",
       "      <td>0.000000</td>\n",
       "      <td>0.000000</td>\n",
       "      <td>0.000000</td>\n",
       "      <td>0.000000</td>\n",
       "      <td>0.000000</td>\n",
       "      <td>1.000000</td>\n",
       "      <td>1.000000</td>\n",
       "      <td>2.000000</td>\n",
       "      <td>2.000000</td>\n",
       "      <td>2.000000</td>\n",
       "      <td>...</td>\n",
       "      <td>8.000000</td>\n",
       "      <td>9.000000</td>\n",
       "      <td>9.000000</td>\n",
       "      <td>9.000000</td>\n",
       "      <td>9.000000</td>\n",
       "      <td>9.000000</td>\n",
       "      <td>9.000000</td>\n",
       "      <td>9.000000</td>\n",
       "      <td>9.000000</td>\n",
       "      <td>9.000000</td>\n",
       "    </tr>\n",
       "    <tr>\n",
       "      <th>75%</th>\n",
       "      <td>0.000000</td>\n",
       "      <td>1.000000</td>\n",
       "      <td>2.000000</td>\n",
       "      <td>2.000000</td>\n",
       "      <td>4.000000</td>\n",
       "      <td>4.500000</td>\n",
       "      <td>5.000000</td>\n",
       "      <td>6.500000</td>\n",
       "      <td>7.500000</td>\n",
       "      <td>8.500000</td>\n",
       "      <td>...</td>\n",
       "      <td>18.000000</td>\n",
       "      <td>18.000000</td>\n",
       "      <td>18.500000</td>\n",
       "      <td>18.500000</td>\n",
       "      <td>20.000000</td>\n",
       "      <td>21.000000</td>\n",
       "      <td>22.000000</td>\n",
       "      <td>22.000000</td>\n",
       "      <td>22.500000</td>\n",
       "      <td>23.000000</td>\n",
       "    </tr>\n",
       "    <tr>\n",
       "      <th>max</th>\n",
       "      <td>547.000000</td>\n",
       "      <td>639.000000</td>\n",
       "      <td>916.000000</td>\n",
       "      <td>1399.000000</td>\n",
       "      <td>2062.000000</td>\n",
       "      <td>2863.000000</td>\n",
       "      <td>5494.000000</td>\n",
       "      <td>6070.000000</td>\n",
       "      <td>8124.000000</td>\n",
       "      <td>9783.000000</td>\n",
       "      <td>...</td>\n",
       "      <td>44327.000000</td>\n",
       "      <td>44699.000000</td>\n",
       "      <td>59832.000000</td>\n",
       "      <td>66292.000000</td>\n",
       "      <td>68347.000000</td>\n",
       "      <td>70446.000000</td>\n",
       "      <td>72364.000000</td>\n",
       "      <td>74139.000000</td>\n",
       "      <td>74546.000000</td>\n",
       "      <td>74999.000000</td>\n",
       "    </tr>\n",
       "  </tbody>\n",
       "</table>\n",
       "<p>8 rows × 30 columns</p>\n",
       "</div>"
      ],
      "text/plain": [
       "       2020-01-22 00:00:00  2020-01-23 00:00:00  2020-01-24 00:00:00  \\\n",
       "count            31.000000            31.000000            31.000000   \n",
       "mean             17.903226            21.064516            30.354839   \n",
       "std              98.197880           114.686801           164.373872   \n",
       "min               0.000000             0.000000             0.000000   \n",
       "25%               0.000000             0.000000             0.000000   \n",
       "50%               0.000000             0.000000             0.000000   \n",
       "75%               0.000000             1.000000             2.000000   \n",
       "max             547.000000           639.000000           916.000000   \n",
       "\n",
       "       2020-01-25 00:00:00  2020-01-26 00:00:00  2020-01-27 00:00:00  \\\n",
       "count            31.000000            31.000000            31.000000   \n",
       "mean             46.258065            68.322581            94.419355   \n",
       "std             251.064264           370.018863           513.833097   \n",
       "min               0.000000             0.000000             0.000000   \n",
       "25%               0.000000             0.000000             0.000000   \n",
       "50%               0.000000             0.000000             1.000000   \n",
       "75%               2.000000             4.000000             4.500000   \n",
       "max            1399.000000          2062.000000          2863.000000   \n",
       "\n",
       "       2020-01-28 00:00:00  2020-01-29 00:00:00  2020-01-30 00:00:00  \\\n",
       "count            31.000000            31.000000            31.000000   \n",
       "mean            179.935484           198.903226           265.612903   \n",
       "std             986.254732          1089.635485          1458.460642   \n",
       "min               0.000000             0.000000             0.000000   \n",
       "25%               0.000000             0.000000             0.000000   \n",
       "50%               1.000000             2.000000             2.000000   \n",
       "75%               5.000000             6.500000             7.500000   \n",
       "max            5494.000000          6070.000000          8124.000000   \n",
       "\n",
       "       2020-01-31 00:00:00  ...  2020-02-11 00:00:00  2020-02-12 00:00:00  \\\n",
       "count            31.000000  ...            31.000000            31.000000   \n",
       "mean            320.225806  ...          1445.258065          1458.774194   \n",
       "std            1756.223936  ...          7958.555937          8025.110955   \n",
       "min               0.000000  ...             0.000000             0.000000   \n",
       "25%               1.000000  ...             1.500000             1.500000   \n",
       "50%               2.000000  ...             8.000000             9.000000   \n",
       "75%               8.500000  ...            18.000000            18.000000   \n",
       "max            9783.000000  ...         44327.000000         44699.000000   \n",
       "\n",
       "       2020-02-13 00:00:00  2020-02-14 00:00:00  2020-02-15 00:00:00  \\\n",
       "count            31.000000            31.000000            31.000000   \n",
       "mean           1947.419355          2157.645161          2226.838710   \n",
       "std           10742.973014         11902.899954         12271.491075   \n",
       "min               0.000000             0.000000             0.000000   \n",
       "25%               1.500000             1.500000             1.500000   \n",
       "50%               9.000000             9.000000             9.000000   \n",
       "75%              18.500000            18.500000            20.000000   \n",
       "max           59832.000000         66292.000000         68347.000000   \n",
       "\n",
       "       2020-02-16 00:00:00  2020-02-17 00:00:00  2020-02-18 00:00:00  \\\n",
       "count            31.000000            31.000000            31.000000   \n",
       "mean           2297.612903          2363.225806          2423.806452   \n",
       "std           12647.966713         12991.847625         13310.128505   \n",
       "min               0.000000             0.000000             0.000000   \n",
       "25%               1.500000             1.500000             1.500000   \n",
       "50%               9.000000             9.000000             9.000000   \n",
       "75%              21.000000            22.000000            22.000000   \n",
       "max           70446.000000         72364.000000         74139.000000   \n",
       "\n",
       "       2020-02-19 00:00:00  2020-02-20 00:00:00  \n",
       "count            31.000000            31.000000  \n",
       "mean           2440.032258          2458.032258  \n",
       "std           13382.760098         13463.515481  \n",
       "min               1.000000             1.000000  \n",
       "25%               2.000000             2.000000  \n",
       "50%               9.000000             9.000000  \n",
       "75%              22.500000            23.000000  \n",
       "max           74546.000000         74999.000000  \n",
       "\n",
       "[8 rows x 30 columns]"
      ]
     },
     "execution_count": 276,
     "metadata": {},
     "output_type": "execute_result"
    }
   ],
   "source": [
    "ctc.describe()"
   ]
  },
  {
   "cell_type": "code",
   "execution_count": 210,
   "metadata": {
    "slideshow": {
     "slide_type": "subslide"
    }
   },
   "outputs": [
    {
     "data": {
      "text/plain": [
       "'Updating/ cleaning'"
      ]
     },
     "execution_count": 210,
     "metadata": {},
     "output_type": "execute_result"
    }
   ],
   "source": [
    "cor_time_dead = cor_time_dead.drop(columns=['Lat', 'Province/State', 'Long'])\n",
    "cor_time_dead = cor_time_dead.rename(columns = {'Country/Region':'Country'})\n",
    "ctd = pd.DataFrame()\n",
    "df2 = pd.DataFrame([i for i in cor_time_dead['Country'].unique()], columns=['Country'])\n",
    "ctd = ctd.append(df2)\n",
    "for column in cor_time_dead.columns:\n",
    "    if column != 'Country':\n",
    "        cor_time_dead = cor_time_dead.rename(columns = {column: pd.to_datetime(column)})\n",
    "        country_sums = []\n",
    "        for country in cor_time_dead['Country'].unique():\n",
    "            country_sums.append(cor_time_dead[cor_time_dead['Country'] == country][pd.to_datetime(column)].sum())\n",
    "        ctd[str(pd.to_datetime(column))] = country_sums\n",
    "\"\"\"Updating/ cleaning\"\"\""
   ]
  },
  {
   "cell_type": "code",
   "execution_count": 277,
   "metadata": {
    "slideshow": {
     "slide_type": "subslide"
    }
   },
   "outputs": [
    {
     "data": {
      "text/html": [
       "<div>\n",
       "<style scoped>\n",
       "    .dataframe tbody tr th:only-of-type {\n",
       "        vertical-align: middle;\n",
       "    }\n",
       "\n",
       "    .dataframe tbody tr th {\n",
       "        vertical-align: top;\n",
       "    }\n",
       "\n",
       "    .dataframe thead th {\n",
       "        text-align: right;\n",
       "    }\n",
       "</style>\n",
       "<table border=\"1\" class=\"dataframe\">\n",
       "  <thead>\n",
       "    <tr style=\"text-align: right;\">\n",
       "      <th></th>\n",
       "      <th>2020-01-22 00:00:00</th>\n",
       "      <th>2020-01-23 00:00:00</th>\n",
       "      <th>2020-01-24 00:00:00</th>\n",
       "      <th>2020-01-25 00:00:00</th>\n",
       "      <th>2020-01-26 00:00:00</th>\n",
       "      <th>2020-01-27 00:00:00</th>\n",
       "      <th>2020-01-28 00:00:00</th>\n",
       "      <th>2020-01-29 00:00:00</th>\n",
       "      <th>2020-01-30 00:00:00</th>\n",
       "      <th>2020-01-31 00:00:00</th>\n",
       "      <th>...</th>\n",
       "      <th>2020-02-11 00:00:00</th>\n",
       "      <th>2020-02-12 00:00:00</th>\n",
       "      <th>2020-02-13 00:00:00</th>\n",
       "      <th>2020-02-14 00:00:00</th>\n",
       "      <th>2020-02-15 00:00:00</th>\n",
       "      <th>2020-02-16 00:00:00</th>\n",
       "      <th>2020-02-17 00:00:00</th>\n",
       "      <th>2020-02-18 00:00:00</th>\n",
       "      <th>2020-02-19 00:00:00</th>\n",
       "      <th>2020-02-20 00:00:00</th>\n",
       "    </tr>\n",
       "  </thead>\n",
       "  <tbody>\n",
       "    <tr>\n",
       "      <th>count</th>\n",
       "      <td>31.000000</td>\n",
       "      <td>31.000000</td>\n",
       "      <td>31.000000</td>\n",
       "      <td>31.000000</td>\n",
       "      <td>31.000000</td>\n",
       "      <td>31.000000</td>\n",
       "      <td>31.000000</td>\n",
       "      <td>31.000000</td>\n",
       "      <td>31.000000</td>\n",
       "      <td>31.000000</td>\n",
       "      <td>...</td>\n",
       "      <td>31.000000</td>\n",
       "      <td>31.000000</td>\n",
       "      <td>31.000000</td>\n",
       "      <td>31.000000</td>\n",
       "      <td>31.000000</td>\n",
       "      <td>31.000000</td>\n",
       "      <td>31.000000</td>\n",
       "      <td>31.000000</td>\n",
       "      <td>31.000000</td>\n",
       "      <td>31.000000</td>\n",
       "    </tr>\n",
       "    <tr>\n",
       "      <th>mean</th>\n",
       "      <td>0.548387</td>\n",
       "      <td>0.580645</td>\n",
       "      <td>0.838710</td>\n",
       "      <td>1.354839</td>\n",
       "      <td>1.806452</td>\n",
       "      <td>2.645161</td>\n",
       "      <td>4.225806</td>\n",
       "      <td>4.290323</td>\n",
       "      <td>5.516129</td>\n",
       "      <td>6.870968</td>\n",
       "      <td>...</td>\n",
       "      <td>35.903226</td>\n",
       "      <td>36.064516</td>\n",
       "      <td>44.225806</td>\n",
       "      <td>49.129032</td>\n",
       "      <td>53.741935</td>\n",
       "      <td>57.096774</td>\n",
       "      <td>60.258065</td>\n",
       "      <td>64.741935</td>\n",
       "      <td>68.451613</td>\n",
       "      <td>72.483871</td>\n",
       "    </tr>\n",
       "    <tr>\n",
       "      <th>std</th>\n",
       "      <td>3.053290</td>\n",
       "      <td>3.232895</td>\n",
       "      <td>4.669738</td>\n",
       "      <td>7.543423</td>\n",
       "      <td>10.057897</td>\n",
       "      <td>14.727635</td>\n",
       "      <td>23.528295</td>\n",
       "      <td>23.887505</td>\n",
       "      <td>30.712507</td>\n",
       "      <td>38.255929</td>\n",
       "      <td>...</td>\n",
       "      <td>199.529673</td>\n",
       "      <td>200.427699</td>\n",
       "      <td>245.682276</td>\n",
       "      <td>272.982263</td>\n",
       "      <td>298.480258</td>\n",
       "      <td>316.973643</td>\n",
       "      <td>334.574951</td>\n",
       "      <td>359.540074</td>\n",
       "      <td>379.638147</td>\n",
       "      <td>401.532138</td>\n",
       "    </tr>\n",
       "    <tr>\n",
       "      <th>min</th>\n",
       "      <td>0.000000</td>\n",
       "      <td>0.000000</td>\n",
       "      <td>0.000000</td>\n",
       "      <td>0.000000</td>\n",
       "      <td>0.000000</td>\n",
       "      <td>0.000000</td>\n",
       "      <td>0.000000</td>\n",
       "      <td>0.000000</td>\n",
       "      <td>0.000000</td>\n",
       "      <td>0.000000</td>\n",
       "      <td>...</td>\n",
       "      <td>0.000000</td>\n",
       "      <td>0.000000</td>\n",
       "      <td>0.000000</td>\n",
       "      <td>0.000000</td>\n",
       "      <td>0.000000</td>\n",
       "      <td>0.000000</td>\n",
       "      <td>0.000000</td>\n",
       "      <td>0.000000</td>\n",
       "      <td>0.000000</td>\n",
       "      <td>0.000000</td>\n",
       "    </tr>\n",
       "    <tr>\n",
       "      <th>25%</th>\n",
       "      <td>0.000000</td>\n",
       "      <td>0.000000</td>\n",
       "      <td>0.000000</td>\n",
       "      <td>0.000000</td>\n",
       "      <td>0.000000</td>\n",
       "      <td>0.000000</td>\n",
       "      <td>0.000000</td>\n",
       "      <td>0.000000</td>\n",
       "      <td>0.000000</td>\n",
       "      <td>0.000000</td>\n",
       "      <td>...</td>\n",
       "      <td>0.000000</td>\n",
       "      <td>0.000000</td>\n",
       "      <td>0.000000</td>\n",
       "      <td>0.000000</td>\n",
       "      <td>0.000000</td>\n",
       "      <td>0.000000</td>\n",
       "      <td>0.000000</td>\n",
       "      <td>0.000000</td>\n",
       "      <td>0.000000</td>\n",
       "      <td>0.000000</td>\n",
       "    </tr>\n",
       "    <tr>\n",
       "      <th>50%</th>\n",
       "      <td>0.000000</td>\n",
       "      <td>0.000000</td>\n",
       "      <td>0.000000</td>\n",
       "      <td>0.000000</td>\n",
       "      <td>0.000000</td>\n",
       "      <td>0.000000</td>\n",
       "      <td>0.000000</td>\n",
       "      <td>0.000000</td>\n",
       "      <td>0.000000</td>\n",
       "      <td>0.000000</td>\n",
       "      <td>...</td>\n",
       "      <td>0.000000</td>\n",
       "      <td>0.000000</td>\n",
       "      <td>0.000000</td>\n",
       "      <td>0.000000</td>\n",
       "      <td>0.000000</td>\n",
       "      <td>0.000000</td>\n",
       "      <td>0.000000</td>\n",
       "      <td>0.000000</td>\n",
       "      <td>0.000000</td>\n",
       "      <td>0.000000</td>\n",
       "    </tr>\n",
       "    <tr>\n",
       "      <th>75%</th>\n",
       "      <td>0.000000</td>\n",
       "      <td>0.000000</td>\n",
       "      <td>0.000000</td>\n",
       "      <td>0.000000</td>\n",
       "      <td>0.000000</td>\n",
       "      <td>0.000000</td>\n",
       "      <td>0.000000</td>\n",
       "      <td>0.000000</td>\n",
       "      <td>0.000000</td>\n",
       "      <td>0.000000</td>\n",
       "      <td>...</td>\n",
       "      <td>0.000000</td>\n",
       "      <td>0.000000</td>\n",
       "      <td>0.000000</td>\n",
       "      <td>0.000000</td>\n",
       "      <td>0.000000</td>\n",
       "      <td>0.000000</td>\n",
       "      <td>0.000000</td>\n",
       "      <td>0.000000</td>\n",
       "      <td>0.000000</td>\n",
       "      <td>1.000000</td>\n",
       "    </tr>\n",
       "    <tr>\n",
       "      <th>max</th>\n",
       "      <td>17.000000</td>\n",
       "      <td>18.000000</td>\n",
       "      <td>26.000000</td>\n",
       "      <td>42.000000</td>\n",
       "      <td>56.000000</td>\n",
       "      <td>82.000000</td>\n",
       "      <td>131.000000</td>\n",
       "      <td>133.000000</td>\n",
       "      <td>171.000000</td>\n",
       "      <td>213.000000</td>\n",
       "      <td>...</td>\n",
       "      <td>1111.000000</td>\n",
       "      <td>1116.000000</td>\n",
       "      <td>1368.000000</td>\n",
       "      <td>1520.000000</td>\n",
       "      <td>1662.000000</td>\n",
       "      <td>1765.000000</td>\n",
       "      <td>1863.000000</td>\n",
       "      <td>2002.000000</td>\n",
       "      <td>2114.000000</td>\n",
       "      <td>2236.000000</td>\n",
       "    </tr>\n",
       "  </tbody>\n",
       "</table>\n",
       "<p>8 rows × 30 columns</p>\n",
       "</div>"
      ],
      "text/plain": [
       "       2020-01-22 00:00:00  2020-01-23 00:00:00  2020-01-24 00:00:00  \\\n",
       "count            31.000000            31.000000            31.000000   \n",
       "mean              0.548387             0.580645             0.838710   \n",
       "std               3.053290             3.232895             4.669738   \n",
       "min               0.000000             0.000000             0.000000   \n",
       "25%               0.000000             0.000000             0.000000   \n",
       "50%               0.000000             0.000000             0.000000   \n",
       "75%               0.000000             0.000000             0.000000   \n",
       "max              17.000000            18.000000            26.000000   \n",
       "\n",
       "       2020-01-25 00:00:00  2020-01-26 00:00:00  2020-01-27 00:00:00  \\\n",
       "count            31.000000            31.000000            31.000000   \n",
       "mean              1.354839             1.806452             2.645161   \n",
       "std               7.543423            10.057897            14.727635   \n",
       "min               0.000000             0.000000             0.000000   \n",
       "25%               0.000000             0.000000             0.000000   \n",
       "50%               0.000000             0.000000             0.000000   \n",
       "75%               0.000000             0.000000             0.000000   \n",
       "max              42.000000            56.000000            82.000000   \n",
       "\n",
       "       2020-01-28 00:00:00  2020-01-29 00:00:00  2020-01-30 00:00:00  \\\n",
       "count            31.000000            31.000000            31.000000   \n",
       "mean              4.225806             4.290323             5.516129   \n",
       "std              23.528295            23.887505            30.712507   \n",
       "min               0.000000             0.000000             0.000000   \n",
       "25%               0.000000             0.000000             0.000000   \n",
       "50%               0.000000             0.000000             0.000000   \n",
       "75%               0.000000             0.000000             0.000000   \n",
       "max             131.000000           133.000000           171.000000   \n",
       "\n",
       "       2020-01-31 00:00:00  ...  2020-02-11 00:00:00  2020-02-12 00:00:00  \\\n",
       "count            31.000000  ...            31.000000            31.000000   \n",
       "mean              6.870968  ...            35.903226            36.064516   \n",
       "std              38.255929  ...           199.529673           200.427699   \n",
       "min               0.000000  ...             0.000000             0.000000   \n",
       "25%               0.000000  ...             0.000000             0.000000   \n",
       "50%               0.000000  ...             0.000000             0.000000   \n",
       "75%               0.000000  ...             0.000000             0.000000   \n",
       "max             213.000000  ...          1111.000000          1116.000000   \n",
       "\n",
       "       2020-02-13 00:00:00  2020-02-14 00:00:00  2020-02-15 00:00:00  \\\n",
       "count            31.000000            31.000000            31.000000   \n",
       "mean             44.225806            49.129032            53.741935   \n",
       "std             245.682276           272.982263           298.480258   \n",
       "min               0.000000             0.000000             0.000000   \n",
       "25%               0.000000             0.000000             0.000000   \n",
       "50%               0.000000             0.000000             0.000000   \n",
       "75%               0.000000             0.000000             0.000000   \n",
       "max            1368.000000          1520.000000          1662.000000   \n",
       "\n",
       "       2020-02-16 00:00:00  2020-02-17 00:00:00  2020-02-18 00:00:00  \\\n",
       "count            31.000000            31.000000            31.000000   \n",
       "mean             57.096774            60.258065            64.741935   \n",
       "std             316.973643           334.574951           359.540074   \n",
       "min               0.000000             0.000000             0.000000   \n",
       "25%               0.000000             0.000000             0.000000   \n",
       "50%               0.000000             0.000000             0.000000   \n",
       "75%               0.000000             0.000000             0.000000   \n",
       "max            1765.000000          1863.000000          2002.000000   \n",
       "\n",
       "       2020-02-19 00:00:00  2020-02-20 00:00:00  \n",
       "count            31.000000            31.000000  \n",
       "mean             68.451613            72.483871  \n",
       "std             379.638147           401.532138  \n",
       "min               0.000000             0.000000  \n",
       "25%               0.000000             0.000000  \n",
       "50%               0.000000             0.000000  \n",
       "75%               0.000000             1.000000  \n",
       "max            2114.000000          2236.000000  \n",
       "\n",
       "[8 rows x 30 columns]"
      ]
     },
     "execution_count": 277,
     "metadata": {},
     "output_type": "execute_result"
    }
   ],
   "source": [
    "ctd.describe()"
   ]
  },
  {
   "cell_type": "markdown",
   "metadata": {
    "slideshow": {
     "slide_type": "slide"
    }
   },
   "source": [
    "# Getting some simple information\n",
    "## What is the timespan of the H1N1 outbreak and how does that compare to the Covid_19\n",
    "## Total death comparison.\n",
    "## Total infected comparison.\n",
    "## Probability of dying if infected"
   ]
  },
  {
   "cell_type": "code",
   "execution_count": 212,
   "metadata": {
    "slideshow": {
     "slide_type": "subslide"
    }
   },
   "outputs": [
    {
     "name": "stdout",
     "output_type": "stream",
     "text": [
      "The first update for the 2009 H1N1 flu was 2009-05-23 08:00:00 and the last update was: 2009-07-06 09:00:00\n",
      "The first update for the Covid_19 was 2020-01-22 12:00:00 and the last update was: 2020-02-17 22:00:00\n",
      "This means we have a little under 2 monthes of data on the h1n1 and a little under 1 month for Covid_19\n"
     ]
    }
   ],
   "source": [
    "print(\"The first update for the 2009 H1N1 flu was \"+str(h1n1['Update Time'].min())+\" and the last update was: \"+ str(h1n1['Update Time'].max()))\n",
    "print(\"The first update for the Covid_19 was \"+str(cor1['Date'].min())+\" and the last update was: \"+ str(cor1['Date'].max()))\n",
    "print(\"This means we have a little under 2 monthes of data on the h1n1 and a little under 1 month for Covid_19\")\n"
   ]
  },
  {
   "cell_type": "code",
   "execution_count": 250,
   "metadata": {
    "slideshow": {
     "slide_type": "subslide"
    }
   },
   "outputs": [
    {
     "name": "stdout",
     "output_type": "stream",
     "text": [
      "The total deaths for the H1N1 flu according to the data set I have is: 476.0\n"
     ]
    },
    {
     "data": {
      "image/png": "[encoded data removed]",
      "text/plain": [
       "<Figure size 432x288 with 1 Axes>"
      ]
     },
     "metadata": {
      "needs_background": "light"
     },
     "output_type": "display_data"
    }
   ],
   "source": [
    "deaths = []\n",
    "for country in h1n1['Country'].unique():\n",
    "    deaths.append(h1n1[(h1n1['Country'] == country)]['Deaths'].max())\n",
    "none_0_deaths = [deaths[i] for i in range(len(deaths)) if deaths[i] != 0 and h1n1['Country'].unique()[i] != 'Grand Total']\n",
    "print('The total deaths for the H1N1 flu according to the data set I have is: '+ str(sum(none_0_deaths)))\n",
    "none_0_countries = [str(h1n1['Country'].unique()[i]).strip('\\xa0') for i in range(len(deaths)) if deaths[i] != 0 and h1n1['Country'].unique()[i] != 'Grand Total']\n",
    "chart = sns.barplot(x=none_0_countries, y=none_0_deaths)\n",
    "chart.set_xticklabels(chart.get_xticklabels(), rotation=90)\n",
    "plt.show()"
   ]
  },
  {
   "cell_type": "code",
   "execution_count": 216,
   "metadata": {
    "slideshow": {
     "slide_type": "subslide"
    }
   },
   "outputs": [
    {
     "name": "stdout",
     "output_type": "stream",
     "text": [
      "The total deaths for the Covid_19 virus according to the data set I have is: 2247\n"
     ]
    },
    {
     "data": {
      "image/png": "[encoded data removed]",
      "text/plain": [
       "<Figure size 432x288 with 1 Axes>"
      ]
     },
     "metadata": {
      "needs_background": "light"
     },
     "output_type": "display_data"
    }
   ],
   "source": [
    "print('The total deaths for the Covid_19 virus according to the data set I have is: '+ str(ctd['2020-02-20 00:00:00'].sum()))\n",
    "chart = sns.barplot(x=ctd['Country'], y=ctd['2020-02-20 00:00:00'])\n",
    "chart.set_xticklabels(chart.get_xticklabels(), rotation=90)\n",
    "plt.show()"
   ]
  },
  {
   "cell_type": "code",
   "execution_count": 246,
   "metadata": {
    "slideshow": {
     "slide_type": "subslide"
    }
   },
   "outputs": [
    {
     "name": "stdout",
     "output_type": "stream",
     "text": [
      "The total cases for the H1N1 flu according to the data set I have is: 112699\n",
      "With the United States, Mexico, and Canada having the most in that order.\n",
      "The total countries for the H1N1 flu according to the data set I have is: 151\n"
     ]
    },
    {
     "data": {
      "image/png": "[encoded data removed]",
      "text/plain": [
       "<Figure size 1152x432 with 1 Axes>"
      ]
     },
     "metadata": {
      "needs_background": "light"
     },
     "output_type": "display_data"
    }
   ],
   "source": [
    "cases = []\n",
    "for country in h1n1['Country'].unique():\n",
    "    cases.append(h1n1[(h1n1['Country'] == country)]['Cases'].max())\n",
    "none_0_cases = [cases[i] for i in range(len(cases)) if cases[i] != 0 and h1n1['Country'].unique()[i] != 'Grand Total']\n",
    "print('The total cases for the H1N1 flu according to the data set I have is: '+ str(sum(none_0_cases)))\n",
    "print('With the United States, Mexico, and Canada having the most in that order.')\n",
    "none_0_countries = [str(h1n1['Country'].unique()[i]).strip('\\xa0').replace('\\xe7ao', '') for i in range(len(cases)) if cases[i] != 0 and h1n1['Country'].unique()[i] != 'Grand Total']\n",
    "print('The total countries for the H1N1 flu according to the data set I have is: '+str(len(none_0_countries)))\n",
    "plt.figure(figsize=(16, 6))\n",
    "chart = sns.barplot(x=none_0_countries, y=none_0_cases)\n",
    "chart.set_xticklabels(chart.get_xticklabels(), rotation=90)\n",
    "plt.show()"
   ]
  },
  {
   "cell_type": "code",
   "execution_count": 252,
   "metadata": {
    "slideshow": {
     "slide_type": "subslide"
    }
   },
   "outputs": [
    {
     "name": "stdout",
     "output_type": "stream",
     "text": [
      "The total cases for the Covid_19 virus according to the data set I have is: 76199\n",
      "With China having the most by far.\n"
     ]
    },
    {
     "data": {
      "image/png": "[encoded data removed]",
      "text/plain": [
       "<Figure size 432x288 with 1 Axes>"
      ]
     },
     "metadata": {
      "needs_background": "light"
     },
     "output_type": "display_data"
    }
   ],
   "source": [
    "print('The total cases for the Covid_19 virus according to the data set I have is: '+ str(ctc['2020-02-20 00:00:00'].sum()))\n",
    "print('With China having the most by far.')\n",
    "chart = sns.barplot(x=ctc['Country'], y=ctc['2020-02-20 00:00:00'])\n",
    "chart.set_xticklabels(chart.get_xticklabels(), rotation=90)\n",
    "plt.show()"
   ]
  },
  {
   "cell_type": "markdown",
   "metadata": {
    "slideshow": {
     "slide_type": "slide"
    }
   },
   "source": [
    "## Now that we have the total numbers of infecteted and dead for both viruses we can calculate very roughly the probabiliy that you would die if you caught either one."
   ]
  },
  {
   "cell_type": "code",
   "execution_count": 254,
   "metadata": {
    "slideshow": {
     "slide_type": "subslide"
    }
   },
   "outputs": [
    {
     "name": "stdout",
     "output_type": "stream",
     "text": [
      "The probabiliy of dying after getting infected by H1N1 seems to be about: 0.00453910614525\n"
     ]
    }
   ],
   "source": [
    "cases = h1n1[h1n1['Country'] == 'Grand Total']['Cases'].max()\n",
    "deaths = h1n1[h1n1['Country'] == 'Grand Total']['Deaths'].max()\n",
    "print('The probabiliy of dying after getting infected by H1N1 seems to be about: '+str(float(deaths)/cases))"
   ]
  },
  {
   "cell_type": "code",
   "execution_count": 255,
   "metadata": {
    "slideshow": {
     "slide_type": "subslide"
    }
   },
   "outputs": [
    {
     "name": "stdout",
     "output_type": "stream",
     "text": [
      "The probabiliy of dying after getting infected by Covid_19 seems to be about: 0.0294885759656\n"
     ]
    }
   ],
   "source": [
    "cases = ctc['2020-02-20 00:00:00'].sum()\n",
    "deaths = ctd['2020-02-20 00:00:00'].sum()\n",
    "print('The probabiliy of dying after getting infected by Covid_19 seems to be about: '+str(float(deaths)/cases))"
   ]
  },
  {
   "cell_type": "code",
   "execution_count": 269,
   "metadata": {
    "slideshow": {
     "slide_type": "subslide"
    }
   },
   "outputs": [
    {
     "name": "stdout",
     "output_type": "stream",
     "text": [
      "So you are about 6.49656012042 times more likely to die of Covid_19 than 2009 h1n1 if infected.\n"
     ]
    }
   ],
   "source": [
    "more_likely = str(0.0294885759656/0.00453910614525)\n",
    "print('So you are about '+more_likely+' times more likely to die of Covid_19 than 2009 H1N1 if infected.')"
   ]
  },
  {
   "cell_type": "markdown",
   "metadata": {
    "slideshow": {
     "slide_type": "slide"
    }
   },
   "source": [
    "# Next we can look at how many people were infected as time passes."
   ]
  },
  {
   "cell_type": "code",
   "execution_count": 266,
   "metadata": {
    "slideshow": {
     "slide_type": "subslide"
    }
   },
   "outputs": [
    {
     "name": "stdout",
     "output_type": "stream",
     "text": [
      "For some reason this won't plot the dates on the x, but since this is for the Covid_19 we know the range is 2020-01-22 to 2020-02-17\n"
     ]
    },
    {
     "data": {
      "image/png": "[encoded data removed]",
      "text/plain": [
       "<Figure size 432x288 with 1 Axes>"
      ]
     },
     "metadata": {
      "needs_background": "light"
     },
     "output_type": "display_data"
    }
   ],
   "source": [
    "time = [i for i in ctc.columns if i != 'Country']\n",
    "cases = [ctc[i].sum() for i in time]\n",
    "chart = sns.lineplot(x=time, y=cases)\n",
    "chart.set_xticklabels(chart.get_xticklabels(), rotation=90)\n",
    "print(\"For some reason this won't plot the dates on the x, but since this is for the Covid_19 we know the range is 2020-01-22 to 2020-02-17\")\n",
    "print(\"So its infected 80000 in only a few months\")\n",
    "plt.show()"
   ]
  },
  {
   "cell_type": "code",
   "execution_count": 267,
   "metadata": {
    "slideshow": {
     "slide_type": "subslide"
    }
   },
   "outputs": [
    {
     "name": "stdout",
     "output_type": "stream",
     "text": [
      "For some reason this won't plot the dates on the x, but since this is for the h1n1 we know the range is 2009-05-23 to 2009-07-06\n",
      "It only infected about 10000 in the same time frame\n"
     ]
    },
    {
     "data": {
      "image/png": "[encoded data removed]",
      "text/plain": [
       "<Figure size 432x288 with 1 Axes>"
      ]
     },
     "metadata": {
      "needs_background": "light"
     },
     "output_type": "display_data"
    }
   ],
   "source": [
    "time = [i for i in h1n1['Update Time'].unique()]\n",
    "cases = [h1n1[(h1n1['Update Time'] == i) & (h1n1['Country'] != 'Grand Total')]['Cases'].sum() for i in time]\n",
    "chart = sns.lineplot(x=time, y=cases)\n",
    "chart.set_xticklabels(chart.get_xticklabels(), rotation=90)\n",
    "print(\"For some reason this won't plot the dates on the x, but since this is for the h1n1 we know the range is 2009-05-23 to 2009-07-06\")\n",
    "print(\"It only infected about 10000 in a roughly similar time frame\")\n",
    "plt.show()"
   ]
  },
  {
   "cell_type": "code",
   "execution_count": 280,
   "metadata": {
    "slideshow": {
     "slide_type": "subslide"
    }
   },
   "outputs": [
    {
     "name": "stdout",
     "output_type": "stream",
     "text": [
      "4.421772779177297e-08\n",
      "Since p is less than 0.05 we accept the null hypothesis that infections are significantly different\n"
     ]
    }
   ],
   "source": [
    "t, p = stats.ttest_ind(h1n1[h1n1['Country'] == 'Grand Total']['Cases'], ctc['2020-02-20 00:00:00'])\n",
    "print(p)\n",
    "print('Since p is less than 0.05 we accept the null hypothesis that infections are insignificatly different')"
   ]
  },
  {
   "cell_type": "markdown",
   "metadata": {
    "slideshow": {
     "slide_type": "subslide"
    }
   },
   "source": [
    "### This might mean that the Covid_19 spreads more then 8 times faster then H1N1 but I hypothesize that it is really due to China's population density. Which would increase the amount of people each person interacts with on a daily basis. Increasing the rate of transefer."
   ]
  },
  {
   "cell_type": "markdown",
   "metadata": {
    "slideshow": {
     "slide_type": "slide"
    }
   },
   "source": [
    "# Conclusion\n",
    "### Coronavirus seems to be more dangerous than H1N1 flu if you become infected and Coronavirus seems to spread a a lot more easily than H1N1. So if anyone is feeling ill please wear a mask when out in public and lets all wash our hands."
   ]
  },
  {
   "cell_type": "code",
   "execution_count": null,
   "metadata": {},
   "outputs": [],
   "source": []
  }
 ],
 "metadata": {
  "celltoolbar": "Slideshow",
  "kernelspec": {
   "display_name": "ds_env",
   "language": "python",
   "name": "ds_env"
  },
  "language_info": {
   "codemirror_mode": {
    "name": "ipython",
    "version": 2
   },
   "file_extension": ".py",
   "mimetype": "text/x-python",
   "name": "python",
   "nbconvert_exporter": "python",
   "pygments_lexer": "ipython2",
   "version": "2.7.16"
  }
 },
 "nbformat": 4,
 "nbformat_minor": 2
}
